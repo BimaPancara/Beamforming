{
 "cells": [
  {
   "cell_type": "markdown",
   "metadata": {},
   "source": [
    "# Base Theory for Angle of Arrival"
   ]
  },
  {
   "cell_type": "markdown",
   "metadata": {},
   "source": [
    "For a ULA with N elements spaced by d, an incoming plane wave at an angle θ results in a phase difference between adjacent elements"
   ]
  },
  {
   "cell_type": "markdown",
   "metadata": {},
   "source": [
    "# Uniform Linear Array (ULA) at 2.4 GHz\n",
    "\n",
    "Assumptions:\n",
    "\n",
    "    Frequency f=2.4f=2.4 GHz\n",
    "    Wavelength λ=cfλ=fc​ where c=3×108c=3×108 m/s\n",
    "    Element spacing d=0.5λd=0.5λ (to avoid grating lobes)\n",
    "    N=8N=8 elements\n",
    "    Incident wave at 30°"
   ]
  },
  {
   "cell_type": "code",
   "execution_count": 1,
   "metadata": {},
   "outputs": [],
   "source": [
    "import numpy as np"
   ]
  },
  {
   "cell_type": "code",
   "execution_count": 2,
   "metadata": {},
   "outputs": [
    {
     "name": "stdout",
     "output_type": "stream",
     "text": [
      "Element 0: Phase shift = 0.0000 radians\n",
      "Element 1: Phase shift = 1.5708 radians\n",
      "Element 2: Phase shift = 3.1416 radians\n"
     ]
    }
   ],
   "source": [
    "\n",
    "# Constants\n",
    "f = 2.4e9  # Frequency in Hz\n",
    "c = 3e8  # Speed of light in m/s\n",
    "lambda_ = c / f  # Wavelength in meters\n",
    "d = 0.5 * lambda_  # Element spacing (half-wavelength)\n",
    "N = 3  # Number of elements\n",
    "theta = np.radians(30)  # Angle of Arrival in radians\n",
    "\n",
    "# Phase shift per element\n",
    "delta_phi = (2 * np.pi * d / lambda_) * np.sin(theta)\n",
    "\n",
    "# Compute phase shift for each element\n",
    "phase_shifts = np.arange(N) * delta_phi\n",
    "\n",
    "# Print results\n",
    "for i, phase in enumerate(phase_shifts):\n",
    "    print(f\"Element {i}: Phase shift = {phase:.4f} radians\")\n"
   ]
  },
  {
   "cell_type": "code",
   "execution_count": 24,
   "metadata": {},
   "outputs": [
    {
     "name": "stdout",
     "output_type": "stream",
     "text": [
      "Element 0: Phase shift = 0.00 degrees\n",
      "Element 1: Phase shift = 90.00 degrees\n",
      "Element 2: Phase shift = 180.00 degrees\n"
     ]
    }
   ],
   "source": [
    "# Phase shift per element (convert to degrees)\n",
    "delta_phi = np.degrees((2 * np.pi * d / lambda_) * np.sin(theta))\n",
    "\n",
    "# Compute phase shift for each element\n",
    "phase_shifts = np.arange(N) * delta_phi\n",
    "\n",
    "# Print results\n",
    "for i, phase in enumerate(phase_shifts):\n",
    "    print(f\"Element {i}: Phase shift = {phase:.2f} degrees\")"
   ]
  },
  {
   "cell_type": "markdown",
   "metadata": {},
   "source": [
    "## Angle of Arrival Estimation"
   ]
  },
  {
   "cell_type": "code",
   "execution_count": 4,
   "metadata": {},
   "outputs": [
    {
     "name": "stdout",
     "output_type": "stream",
     "text": [
      "Estimated AoA: 30.00 degrees\n"
     ]
    }
   ],
   "source": [
    "def estimate_aoa(phase_measurements, f, d_factor=0.5):\n",
    "    \"\"\"\n",
    "    Estimate AoA from three antenna phase measurements.\n",
    "    \n",
    "    Parameters:\n",
    "        phase_measurements (list): List of phase values [phi_0, phi_1, phi_2] in degrees\n",
    "        f (float): Frequency in Hz (e.g., 2.4e9 for 2.4 GHz)\n",
    "        d_factor (float): Element spacing as a fraction of wavelength (default 0.5λ)\n",
    "    \n",
    "    Returns:\n",
    "        float: Estimated Angle of Arrival (AoA) in degrees\n",
    "    \"\"\"\n",
    "    c = 3e8  # Speed of light in m/s\n",
    "    lambda_ = c / f  # Wavelength in meters\n",
    "    d = d_factor * lambda_  # Element spacing\n",
    "\n",
    "    # Convert phase to radians\n",
    "    phi_0, phi_1, phi_2 = np.radians(phase_measurements)\n",
    "\n",
    "    # Compute phase difference (ensure wrapping correction)\n",
    "    delta_phi = np.unwrap([phi_0, phi_1, phi_2])[1] - phi_0  # Between antenna 0 and 1\n",
    "\n",
    "    # Estimate AoA\n",
    "    theta_rad = np.arcsin((lambda_ * delta_phi) / (2 * np.pi * d))\n",
    "    theta_deg = np.degrees(theta_rad)\n",
    "\n",
    "    return theta_deg\n",
    "\n",
    "# Example usage\n",
    "phase_meas = [0, 90, 180]  # Example phase in degrees\n",
    "f = 2.4e9  # 2.4 GHz frequency\n",
    "\n",
    "aoa = estimate_aoa(phase_meas, f)\n",
    "print(f\"Estimated AoA: {aoa:.2f} degrees\")"
   ]
  },
  {
   "cell_type": "markdown",
   "metadata": {},
   "source": [
    "## Beamformer in Reality\n",
    "\n",
    "This section will include theory on the possibility for implementing beamforming on SDR.\n",
    "\n",
    "Main inspiration taken from [Jon Kraft GitHub](https://github.com/jonkraft/Pluto_Beamformer.git)"
   ]
  },
  {
   "cell_type": "markdown",
   "metadata": {},
   "source": [
    "### Pseudocode \n",
    "\n",
    "**List all pseudocode**\n",
    "\n"
   ]
  },
  {
   "cell_type": "markdown",
   "metadata": {},
   "source": [
    "#### Plot FFT\n",
    "\n",
    "1. Basic Setup\n",
    "2. Sent Standard sine wave\n",
    "3. function for reading raw data in IQ to FFT (dbfs)\n",
    "4. Get data from both channel\n",
    "5. Create empty array for peak sum\n",
    "6. loop through delay phases of -180 to 180 with 2 increment\n",
    "      1. In the loop, change the phase in one channel according to the loop and add calibration\n",
    "      2. Sum both channel in fft (delay Rx[1] and Rx[0])"
   ]
  },
  {
   "cell_type": "markdown",
   "metadata": {},
   "source": [
    "#### Plot Peaks\n",
    "\n",
    "1. Set sample rate, gain, freq center\n",
    "2. Add phase calibration because cable length and any other\n",
    "3. Set distance between Rx antennas, calculate distance by half of the wavelength. To know the distance in mm, multiply by 1000\n",
    "4. Function to calculate theta with phase in degree\n",
    "      1. arcsin_arg = phase in radians * 3E8 / (2 * pi * freq_center * d_Rx)\n",
    "      2. arcsin_arg = max(min(1,arcsin_arg),-1)\n",
    "      3. calculate theta = np.rad2deg(np.arcsin(arcsin_arg))\n",
    "      4. Return calculate theta\n",
    "5. Function for reading raw data in IQ to FFT (dbfs)\n",
    "6. Create empty array for peak sum\n",
    "7. loop through delay_phases of -180 to 180 with 2 increment\n",
    "      1. In the loop, change the phase in one channel according to the loop and add calibration\n",
    "      2. Sum both channel in fft (delay Rx[1] and Rx[0])\n",
    "      3. Get the peak_sum\n",
    "8. peak_dbfs is maximum of the peak_sum\n",
    "9. Get index of peak_delay by using np.where at which the peak_sum equal to peak_dbfs\n",
    "10. peak_delay is delay_phases with index of peak_delay_index"
   ]
  }
 ],
 "metadata": {
  "kernelspec": {
   "display_name": "radioconda",
   "language": "python",
   "name": "python3"
  },
  "language_info": {
   "codemirror_mode": {
    "name": "ipython",
    "version": 3
   },
   "file_extension": ".py",
   "mimetype": "text/x-python",
   "name": "python",
   "nbconvert_exporter": "python",
   "pygments_lexer": "ipython3",
   "version": "3.12.9"
  }
 },
 "nbformat": 4,
 "nbformat_minor": 2
}
